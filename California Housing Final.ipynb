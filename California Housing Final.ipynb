{
 "cells": [
  {
   "cell_type": "code",
   "execution_count": 1,
   "id": "e96febf4",
   "metadata": {},
   "outputs": [],
   "source": [
    "import pandas as pd\n",
    "import numpy as np\n",
    "import os \n",
    "import warnings\n",
    "import matplotlib.pyplot as plt\n",
    "import seaborn as sns\n",
    "from matplotlib.colors import LinearSegmentedColormap\n",
    "import plotly.graph_objects as go\n",
    "import plotly.io as pio\n",
    "import pyspark"
   ]
  },
  {
   "cell_type": "code",
   "execution_count": 2,
   "id": "e00314fd",
   "metadata": {},
   "outputs": [
    {
     "name": "stdout",
     "output_type": "stream",
     "text": [
      "Welcome to\n",
      "      ____              __\n",
      "     / __/__  ___ _____/ /__\n",
      "    _\\ \\/ _ \\/ _ `/ __/  '_/\n",
      "   /__ / .__/\\_,_/_/ /_/\\_\\   version 3.5.0\n",
      "      /_/\n",
      "\n",
      "Using Python version 3.9.12 (main, Apr  4 2022 05:22:27)\n",
      "Spark context Web UI available at http://10.67.197.115:4040\n",
      "Spark context available as 'sc' (master = local[*], app id = local-1701399491493).\n",
      "SparkSession available as 'spark'.\n"
     ]
    }
   ],
   "source": [
    "from pyspark.shell import spark"
   ]
  },
  {
   "cell_type": "code",
   "execution_count": 3,
   "id": "a26d6028",
   "metadata": {},
   "outputs": [],
   "source": [
    "from pyspark.sql import SparkSession\n",
    "from pyspark.sql.types import *\n",
    "import pyspark.sql.functions as F\n",
    "from pyspark.sql.window import Window\n",
    "from pyspark.ml.feature import QuantileDiscretizer, StringIndexer, OneHotEncoder, StandardScaler, RobustScaler\n",
    "from pyspark.ml.feature import PolynomialExpansion, VectorAssembler\n",
    "from pyspark.ml.clustering import KMeans\n",
    "from pyspark.ml.tuning import CrossValidator, ParamGridBuilder\n",
    "from pyspark.ml.regression import LinearRegression\n",
    "from pyspark.ml.evaluation import RegressionEvaluator\n",
    "from pyspark.ml import Pipeline"
   ]
  },
  {
   "cell_type": "code",
   "execution_count": 4,
   "id": "6b0d77ba",
   "metadata": {},
   "outputs": [],
   "source": [
    "PATH_LOCAL = 'datasets/'\n",
    "PATH_REMOTE = '/datasets/'                    \n",
    "CR = '\\n'                                    \n",
    "RANDOM_STATE = RANDOM_SEED = RS = 77          \n",
    "TEST_FRAC = 0.2                              \n",
    "N_TRIALS = 10                                 \n",
    "N_CV = 5                                      \n",
    "MAX_ITER = 1000                              \n",
    "DEGREE_POLYNOMIAL = 5                        "
   ]
  },
  {
   "cell_type": "code",
   "execution_count": 5,
   "id": "a4b80cb0",
   "metadata": {},
   "outputs": [],
   "source": [
    "def custom_read_spark(spark_session, file_name, file_format='csv', separator=',', header='true'):\n",
    "\n",
    "    path_local = f'{PATH_LOCAL}{file_name}'\n",
    "    path_remote = f'{PATH_REMOTE}{file_name}'\n",
    "    \n",
    "    if os.path.exists(path_local):\n",
    "        return spark_session.read.load(\n",
    "                                       path_local,\n",
    "                                       inferSchema=True,\n",
    "                                       format=file_format,\n",
    "                                       sep=separator,\n",
    "                                       header=header,\n",
    "                                      )\n",
    "\n",
    "    elif os.path.exists(path_remote):\n",
    "        return spark_session.read.load(\n",
    "                                       path_remote,\n",
    "                                       inferSchema=True,\n",
    "                                       format=file_format,\n",
    "                                       sep=separator,\n",
    "                                       header=header,\n",
    "                                      )\n",
    "\n",
    "    else:\n",
    "        print(f'File \"{file_name}\" not found at the specified path.')"
   ]
  },
  {
   "cell_type": "code",
   "execution_count": 6,
   "id": "a4aeb57d",
   "metadata": {},
   "outputs": [],
   "source": [
    "def var_name(var):\n",
    "    return [name for name in globals() if globals()[name] is var][0]"
   ]
  },
  {
   "cell_type": "code",
   "execution_count": 7,
   "id": "b5c3bba4",
   "metadata": {},
   "outputs": [],
   "source": [
    "class RandomGridBuilder: \n",
    "  \n",
    "    def __init__(self, num_models, seed=None):\n",
    "        self._param_grid = {}\n",
    "        self.num_models = num_models\n",
    "        self.seed = seed\n",
    "    \n",
    "    def addDistr(self, param, distr_generator):\n",
    "        if 'pyspark.ml.param.Param' in str(type(param)):\n",
    "            self._param_grid[param] = distr_generator\n",
    "        else:\n",
    "            raise TypeError('param must be an instance of Param')\n",
    "\n",
    "        return self\n",
    "  \n",
    "    def build(self):    \n",
    "        param_map = []\n",
    "        for n in range(self.num_models):\n",
    "            if self.seed:\n",
    "                np.random.seed(self.seed + n)\n",
    "                random.seed(self.seed + n)\n",
    "            param_dict = {}\n",
    "            for param, distr in self._param_grid.items():\n",
    "                param_dict[param] = distr()\n",
    "            param_map.append(param_dict)\n",
    "\n",
    "        return param_map"
   ]
  },
  {
   "cell_type": "code",
   "execution_count": 8,
   "id": "706c582e",
   "metadata": {},
   "outputs": [],
   "source": [
    "class f:\n",
    "    BOLD = \"\\033[1m\"\n",
    "    ITALIC = \"\\033[3m\"\n",
    "    END = \"\\033[0m\""
   ]
  },
  {
   "cell_type": "code",
   "execution_count": 9,
   "id": "b57ac5fe",
   "metadata": {},
   "outputs": [],
   "source": [
    "PLOT_DPI = 150  \n",
    "sns.set_style('whitegrid', {'axes.facecolor': '0.98', 'grid.color': '0.9', 'axes.edgecolor': '1.0'})\n",
    "plt.rc(\n",
    "       'axes',\n",
    "       labelweight='bold',\n",
    "       titlesize=16,\n",
    "       titlepad=10,\n",
    "      )\n",
    "\n",
    "pio.templates['my_theme'] = go.layout.Template(\n",
    "                                               layout_autosize=True,\n",
    "                                               # width=900,\n",
    "                                               layout_height=200,\n",
    "                                               layout_legend_orientation=\"h\",\n",
    "                                               layout_margin=dict(t=40, b=40),         # (l=0, r=0, b=0, t=0, pad=0)\n",
    "                                               layout_template='seaborn',\n",
    "                                              )\n",
    "pio.templates.default = 'my_theme'\n",
    "\n",
    "CMAP_SYMMETRIC = LinearSegmentedColormap.from_list('', ['steelblue', 'aliceblue', 'steelblue'])"
   ]
  },
  {
   "cell_type": "code",
   "execution_count": 10,
   "id": "d5506fa8",
   "metadata": {},
   "outputs": [],
   "source": [
    "pd.options.display.max_colwidth = 100\n",
    "pd.options.display.max_rows = 500\n",
    "pd.options.display.max_columns = 100\n",
    "pd.options.display.float_format = '{:.3f}'.format\n",
    "pd.options.display.colheader_justify = 'left'"
   ]
  },
  {
   "cell_type": "code",
   "execution_count": 11,
   "id": "a431f7eb",
   "metadata": {},
   "outputs": [],
   "source": [
    "warnings.filterwarnings('ignore')"
   ]
  },
  {
   "cell_type": "code",
   "execution_count": 12,
   "id": "419cbc4a",
   "metadata": {},
   "outputs": [
    {
     "data": {
      "text/html": [
       "\n",
       "            <div>\n",
       "                <p><b>SparkSession - hive</b></p>\n",
       "                \n",
       "        <div>\n",
       "            <p><b>SparkContext</b></p>\n",
       "\n",
       "            <p><a href=\"http://10.67.197.115:4040\">Spark UI</a></p>\n",
       "\n",
       "            <dl>\n",
       "              <dt>Version</dt>\n",
       "                <dd><code>v3.5.0</code></dd>\n",
       "              <dt>Master</dt>\n",
       "                <dd><code>local[*]</code></dd>\n",
       "              <dt>AppName</dt>\n",
       "                <dd><code>pyspark-shell</code></dd>\n",
       "            </dl>\n",
       "        </div>\n",
       "        \n",
       "            </div>\n",
       "        "
      ],
      "text/plain": [
       "<pyspark.sql.session.SparkSession at 0x20e1df5b790>"
      ]
     },
     "execution_count": 12,
     "metadata": {},
     "output_type": "execute_result"
    }
   ],
   "source": [
    "#Spark session open\n",
    "spark = (\n",
    "         SparkSession\n",
    "         .builder\n",
    "         .master('local[*]')\n",
    "         .config('spark.task.cpus', '8')\n",
    "         .config(\"spark.dynamicAllocation.enabled\", \"true\")\n",
    "         .config(\"spark.executor.cores\", '8')\n",
    "         .config(\"spark.dynamicAllocation.minExecutors\",\"1\")\n",
    "         .config(\"spark.dynamicAllocation.maxExecutors\",\"16\")\n",
    "         .config(\"spark.driver.memory\", \"4g\")\n",
    "         .config(\"spark.executor.memory\", \"1g\")\n",
    "         .getOrCreate()\n",
    "        )\n",
    "\n",
    "spark"
   ]
  },
  {
   "cell_type": "code",
   "execution_count": 13,
   "id": "abdbee4b",
   "metadata": {},
   "outputs": [],
   "source": [
    "data = spark.read.format('csv')\\\n",
    "          .option('header','true')\\\n",
    "          .option('inferSchema', 'true')\\\n",
    "          .option('timestamp', 'true')\\\n",
    "          .load('housing.csv')"
   ]
  },
  {
   "cell_type": "code",
   "execution_count": 14,
   "id": "7d77c479",
   "metadata": {},
   "outputs": [
    {
     "name": "stdout",
     "output_type": "stream",
     "text": [
      "root\n",
      " |-- longitude: double (nullable = true)\n",
      " |-- latitude: double (nullable = true)\n",
      " |-- housing_median_age: double (nullable = true)\n",
      " |-- total_rooms: double (nullable = true)\n",
      " |-- total_bedrooms: double (nullable = true)\n",
      " |-- population: double (nullable = true)\n",
      " |-- households: double (nullable = true)\n",
      " |-- median_income: double (nullable = true)\n",
      " |-- median_house_value: double (nullable = true)\n",
      " |-- ocean_proximity: string (nullable = true)\n",
      "\n"
     ]
    }
   ],
   "source": [
    "data.printSchema()"
   ]
  },
  {
   "cell_type": "code",
   "execution_count": 15,
   "id": "b33a994e",
   "metadata": {},
   "outputs": [
    {
     "name": "stdout",
     "output_type": "stream",
     "text": [
      "+---------+--------+------------------+-----------+--------------+----------+----------+-------------+------------------+---------------+\n",
      "|longitude|latitude|housing_median_age|total_rooms|total_bedrooms|population|households|median_income|median_house_value|ocean_proximity|\n",
      "+---------+--------+------------------+-----------+--------------+----------+----------+-------------+------------------+---------------+\n",
      "|  -122.23|   37.88|              41.0|      880.0|         129.0|     322.0|     126.0|       8.3252|          452600.0|       NEAR BAY|\n",
      "|  -122.22|   37.86|              21.0|     7099.0|        1106.0|    2401.0|    1138.0|       8.3014|          358500.0|       NEAR BAY|\n",
      "|  -122.24|   37.85|              52.0|     1467.0|         190.0|     496.0|     177.0|       7.2574|          352100.0|       NEAR BAY|\n",
      "+---------+--------+------------------+-----------+--------------+----------+----------+-------------+------------------+---------------+\n",
      "only showing top 3 rows\n",
      "\n"
     ]
    }
   ],
   "source": [
    "data.show(3)"
   ]
  },
  {
   "cell_type": "code",
   "execution_count": 16,
   "id": "c2bb7a6c",
   "metadata": {},
   "outputs": [
    {
     "data": {
      "text/html": [
       "<div>\n",
       "<style scoped>\n",
       "    .dataframe tbody tr th:only-of-type {\n",
       "        vertical-align: middle;\n",
       "    }\n",
       "\n",
       "    .dataframe tbody tr th {\n",
       "        vertical-align: top;\n",
       "    }\n",
       "\n",
       "    .dataframe thead th {\n",
       "        text-align: right;\n",
       "    }\n",
       "</style>\n",
       "<table border=\"1\" class=\"dataframe\">\n",
       "  <thead>\n",
       "    <tr style=\"text-align: left;\">\n",
       "      <th></th>\n",
       "      <th>longitude</th>\n",
       "      <th>latitude</th>\n",
       "      <th>housing_median_age</th>\n",
       "      <th>total_rooms</th>\n",
       "      <th>total_bedrooms</th>\n",
       "      <th>population</th>\n",
       "      <th>households</th>\n",
       "      <th>median_income</th>\n",
       "      <th>median_house_value</th>\n",
       "      <th>ocean_proximity</th>\n",
       "    </tr>\n",
       "    <tr>\n",
       "      <th>summary</th>\n",
       "      <th></th>\n",
       "      <th></th>\n",
       "      <th></th>\n",
       "      <th></th>\n",
       "      <th></th>\n",
       "      <th></th>\n",
       "      <th></th>\n",
       "      <th></th>\n",
       "      <th></th>\n",
       "      <th></th>\n",
       "    </tr>\n",
       "  </thead>\n",
       "  <tbody>\n",
       "    <tr>\n",
       "      <th>count</th>\n",
       "      <td>20640</td>\n",
       "      <td>20640</td>\n",
       "      <td>20640</td>\n",
       "      <td>20640</td>\n",
       "      <td>20433</td>\n",
       "      <td>20640</td>\n",
       "      <td>20640</td>\n",
       "      <td>20640</td>\n",
       "      <td>20640</td>\n",
       "      <td>20640</td>\n",
       "    </tr>\n",
       "    <tr>\n",
       "      <th>mean</th>\n",
       "      <td>-119.56970445736148</td>\n",
       "      <td>35.6318614341087</td>\n",
       "      <td>28.639486434108527</td>\n",
       "      <td>2635.7630813953488</td>\n",
       "      <td>537.8705525375618</td>\n",
       "      <td>1425.4767441860465</td>\n",
       "      <td>499.5396802325581</td>\n",
       "      <td>3.8706710029070246</td>\n",
       "      <td>206855.81690891474</td>\n",
       "      <td>None</td>\n",
       "    </tr>\n",
       "    <tr>\n",
       "      <th>stddev</th>\n",
       "      <td>2.003531723502584</td>\n",
       "      <td>2.135952397457101</td>\n",
       "      <td>12.58555761211163</td>\n",
       "      <td>2181.6152515827944</td>\n",
       "      <td>421.38507007403115</td>\n",
       "      <td>1132.46212176534</td>\n",
       "      <td>382.3297528316098</td>\n",
       "      <td>1.899821717945263</td>\n",
       "      <td>115395.61587441359</td>\n",
       "      <td>None</td>\n",
       "    </tr>\n",
       "    <tr>\n",
       "      <th>min</th>\n",
       "      <td>-124.35</td>\n",
       "      <td>32.54</td>\n",
       "      <td>1.0</td>\n",
       "      <td>2.0</td>\n",
       "      <td>1.0</td>\n",
       "      <td>3.0</td>\n",
       "      <td>1.0</td>\n",
       "      <td>0.4999</td>\n",
       "      <td>14999.0</td>\n",
       "      <td>&lt;1H OCEAN</td>\n",
       "    </tr>\n",
       "    <tr>\n",
       "      <th>max</th>\n",
       "      <td>-114.31</td>\n",
       "      <td>41.95</td>\n",
       "      <td>52.0</td>\n",
       "      <td>39320.0</td>\n",
       "      <td>6445.0</td>\n",
       "      <td>35682.0</td>\n",
       "      <td>6082.0</td>\n",
       "      <td>15.0001</td>\n",
       "      <td>500001.0</td>\n",
       "      <td>NEAR OCEAN</td>\n",
       "    </tr>\n",
       "  </tbody>\n",
       "</table>\n",
       "</div>"
      ],
      "text/plain": [
       "        longitude            latitude           housing_median_age   \\\n",
       "summary                                                               \n",
       "count                  20640              20640               20640   \n",
       "mean     -119.56970445736148   35.6318614341087  28.639486434108527   \n",
       "stddev     2.003531723502584  2.135952397457101   12.58555761211163   \n",
       "min                  -124.35              32.54                 1.0   \n",
       "max                  -114.31              41.95                52.0   \n",
       "\n",
       "        total_rooms         total_bedrooms      population           \\\n",
       "summary                                                               \n",
       "count                 20640               20433               20640   \n",
       "mean     2635.7630813953488   537.8705525375618  1425.4767441860465   \n",
       "stddev   2181.6152515827944  421.38507007403115    1132.46212176534   \n",
       "min                     2.0                 1.0                 3.0   \n",
       "max                 39320.0              6445.0             35682.0   \n",
       "\n",
       "        households         median_income       median_house_value   \\\n",
       "summary                                                              \n",
       "count                20640               20640               20640   \n",
       "mean     499.5396802325581  3.8706710029070246  206855.81690891474   \n",
       "stddev   382.3297528316098   1.899821717945263  115395.61587441359   \n",
       "min                    1.0              0.4999             14999.0   \n",
       "max                 6082.0             15.0001            500001.0   \n",
       "\n",
       "        ocean_proximity  \n",
       "summary                  \n",
       "count         20640      \n",
       "mean           None      \n",
       "stddev         None      \n",
       "min       <1H OCEAN      \n",
       "max      NEAR OCEAN      "
      ]
     },
     "execution_count": 16,
     "metadata": {},
     "output_type": "execute_result"
    }
   ],
   "source": [
    "data.describe().toPandas().set_index('summary')"
   ]
  },
  {
   "cell_type": "code",
   "execution_count": 17,
   "id": "ffec288c",
   "metadata": {},
   "outputs": [],
   "source": [
    "def count_null(df):\n",
    "    print(f'missing values:{CR}')\n",
    "\n",
    "    for column in data.columns:\n",
    "        is_null = F.isnull(F.col(column)) | F.isnan(F.col(column))\n",
    "        print(f'{column:25} {data.filter(is_null).count():5d}')"
   ]
  },
  {
   "cell_type": "code",
   "execution_count": 18,
   "id": "fd4e4667",
   "metadata": {},
   "outputs": [
    {
     "name": "stdout",
     "output_type": "stream",
     "text": [
      "Correlations to \u001b[1mtotal_bedrooms\u001b[0m:\n",
      "  longitude                   6.8%\n",
      "  latitude                   -6.5%\n",
      "  housing_median_age        -31.7%\n",
      "  total_rooms                92.0%\n",
      "  total_bedrooms            100.0%\n",
      "  population                 86.6%\n",
      "  households                 96.7%\n",
      "  median_income              -0.7%\n",
      "  median_house_value          4.9%\n"
     ]
    }
   ],
   "source": [
    "num_feature_list = []\n",
    "\n",
    "for feature in data.dtypes:\n",
    "    if feature[1] in ['double','float','int']:\n",
    "        num_feature_list.append(feature[0])\n",
    "\n",
    "print(f'Correlations to {f.BOLD}total_bedrooms{f.END}:')\n",
    "for feature in num_feature_list:\n",
    "    print(f\"  {feature:<25} {data.corr('total_bedrooms', feature):>6.1%}\")"
   ]
  },
  {
   "cell_type": "code",
   "execution_count": 19,
   "id": "e2dc3f3e",
   "metadata": {},
   "outputs": [],
   "source": [
    "df_stats_before = data.describe().toPandas().set_index('summary').dropna(axis=1).astype('float')      "
   ]
  },
  {
   "cell_type": "code",
   "execution_count": 20,
   "id": "7515b088",
   "metadata": {},
   "outputs": [],
   "source": [
    "data = (QuantileDiscretizer(\n",
    "                            numBucketsArray=[10,10,10],\n",
    "                            inputCols=['total_rooms','population','households'],\n",
    "                            outputCols=['total_rooms_discrete','population_discrete','households_discrete'],\n",
    "                            relativeError=0.01,\n",
    "                            handleInvalid='error',\n",
    "                           )\n",
    "        .fit(data)\n",
    "        .transform(data)\n",
    "       )"
   ]
  },
  {
   "cell_type": "code",
   "execution_count": 21,
   "id": "38228dcc",
   "metadata": {},
   "outputs": [
    {
     "name": "stdout",
     "output_type": "stream",
     "text": [
      "+-----------+--------------------+----------+-------------------+----------+-------------------+\n",
      "|total_rooms|total_rooms_discrete|population|population_discrete|households|households_discrete|\n",
      "+-----------+--------------------+----------+-------------------+----------+-------------------+\n",
      "|      862.0|                 0.0|     994.0|                3.0|     213.0|                1.0|\n",
      "|     1999.0|                 4.0|     967.0|                3.0|     320.0|                3.0|\n",
      "|     2377.0|                 5.0|    1068.0|                4.0|     435.0|                5.0|\n",
      "+-----------+--------------------+----------+-------------------+----------+-------------------+\n",
      "only showing top 3 rows\n",
      "\n"
     ]
    }
   ],
   "source": [
    "data.select('total_rooms','total_rooms_discrete',\n",
    "            'population','population_discrete',\n",
    "            'households','households_discrete').sample(0.001).show(3)"
   ]
  },
  {
   "cell_type": "code",
   "execution_count": 22,
   "id": "1a377cff",
   "metadata": {},
   "outputs": [
    {
     "name": "stdout",
     "output_type": "stream",
     "text": [
      "missing values:\n",
      "\n",
      "longitude                     0\n",
      "latitude                      0\n",
      "housing_median_age            0\n",
      "total_rooms                   0\n",
      "total_bedrooms              207\n",
      "population                    0\n",
      "households                    0\n",
      "median_income                 0\n",
      "median_house_value            0\n",
      "ocean_proximity               0\n",
      "total_rooms_discrete          0\n",
      "population_discrete           0\n",
      "households_discrete           0\n"
     ]
    }
   ],
   "source": [
    "count_null(data)"
   ]
  },
  {
   "cell_type": "code",
   "execution_count": 23,
   "id": "cd182a79",
   "metadata": {},
   "outputs": [],
   "source": [
    "window = Window().partitionBy('households_discrete')\n",
    "\n",
    "data = data.withColumn('total_bedrooms', F.coalesce(F.col('total_bedrooms'),\n",
    "                                                    F.percentile_approx(F.col('total_bedrooms'), 0.5).over(window)\n",
    "                                                   )\n",
    "                      )"
   ]
  },
  {
   "cell_type": "code",
   "execution_count": 24,
   "id": "ce2d9bbd",
   "metadata": {},
   "outputs": [
    {
     "name": "stdout",
     "output_type": "stream",
     "text": [
      "missing values:\n",
      "\n",
      "longitude                     0\n",
      "latitude                      0\n",
      "housing_median_age            0\n",
      "total_rooms                   0\n",
      "total_bedrooms                0\n",
      "population                    0\n",
      "households                    0\n",
      "median_income                 0\n",
      "median_house_value            0\n",
      "ocean_proximity               0\n",
      "total_rooms_discrete          0\n",
      "population_discrete           0\n",
      "households_discrete           0\n"
     ]
    }
   ],
   "source": [
    "count_null(data)"
   ]
  },
  {
   "cell_type": "code",
   "execution_count": 25,
   "id": "dca67f0a",
   "metadata": {},
   "outputs": [],
   "source": [
    "data = data.drop('total_rooms_discrete','population_discrete','households_discrete')"
   ]
  },
  {
   "cell_type": "code",
   "execution_count": 26,
   "id": "121fd972",
   "metadata": {},
   "outputs": [],
   "source": [
    "df_stats_after = data.describe().toPandas().set_index('summary').dropna(axis=1).astype('float')    "
   ]
  },
  {
   "cell_type": "code",
   "execution_count": 27,
   "id": "c15df5c7",
   "metadata": {},
   "outputs": [
    {
     "data": {
      "text/html": [
       "<style type=\"text/css\">\n",
       "#T_8ada8_row0_col4, #T_8ada8_row1_col4, #T_8ada8_row2_col4 {\n",
       "  color: red;\n",
       "}\n",
       "</style>\n",
       "<table id=\"T_8ada8\">\n",
       "  <thead>\n",
       "    <tr>\n",
       "      <th class=\"blank level0\" >&nbsp;</th>\n",
       "      <th id=\"T_8ada8_level0_col0\" class=\"col_heading level0 col0\" >longitude</th>\n",
       "      <th id=\"T_8ada8_level0_col1\" class=\"col_heading level0 col1\" >latitude</th>\n",
       "      <th id=\"T_8ada8_level0_col2\" class=\"col_heading level0 col2\" >housing_median_age</th>\n",
       "      <th id=\"T_8ada8_level0_col3\" class=\"col_heading level0 col3\" >total_rooms</th>\n",
       "      <th id=\"T_8ada8_level0_col4\" class=\"col_heading level0 col4\" >total_bedrooms</th>\n",
       "      <th id=\"T_8ada8_level0_col5\" class=\"col_heading level0 col5\" >population</th>\n",
       "      <th id=\"T_8ada8_level0_col6\" class=\"col_heading level0 col6\" >households</th>\n",
       "      <th id=\"T_8ada8_level0_col7\" class=\"col_heading level0 col7\" >median_income</th>\n",
       "      <th id=\"T_8ada8_level0_col8\" class=\"col_heading level0 col8\" >median_house_value</th>\n",
       "    </tr>\n",
       "    <tr>\n",
       "      <th class=\"index_name level0\" >summary</th>\n",
       "      <th class=\"blank col0\" >&nbsp;</th>\n",
       "      <th class=\"blank col1\" >&nbsp;</th>\n",
       "      <th class=\"blank col2\" >&nbsp;</th>\n",
       "      <th class=\"blank col3\" >&nbsp;</th>\n",
       "      <th class=\"blank col4\" >&nbsp;</th>\n",
       "      <th class=\"blank col5\" >&nbsp;</th>\n",
       "      <th class=\"blank col6\" >&nbsp;</th>\n",
       "      <th class=\"blank col7\" >&nbsp;</th>\n",
       "      <th class=\"blank col8\" >&nbsp;</th>\n",
       "    </tr>\n",
       "  </thead>\n",
       "  <tbody>\n",
       "    <tr>\n",
       "      <th id=\"T_8ada8_level0_row0\" class=\"row_heading level0 row0\" >count</th>\n",
       "      <td id=\"T_8ada8_row0_col0\" class=\"data row0 col0\" >0.000%</td>\n",
       "      <td id=\"T_8ada8_row0_col1\" class=\"data row0 col1\" >0.000%</td>\n",
       "      <td id=\"T_8ada8_row0_col2\" class=\"data row0 col2\" >0.000%</td>\n",
       "      <td id=\"T_8ada8_row0_col3\" class=\"data row0 col3\" >0.000%</td>\n",
       "      <td id=\"T_8ada8_row0_col4\" class=\"data row0 col4\" >1.013%</td>\n",
       "      <td id=\"T_8ada8_row0_col5\" class=\"data row0 col5\" >0.000%</td>\n",
       "      <td id=\"T_8ada8_row0_col6\" class=\"data row0 col6\" >0.000%</td>\n",
       "      <td id=\"T_8ada8_row0_col7\" class=\"data row0 col7\" >0.000%</td>\n",
       "      <td id=\"T_8ada8_row0_col8\" class=\"data row0 col8\" >0.000%</td>\n",
       "    </tr>\n",
       "    <tr>\n",
       "      <th id=\"T_8ada8_level0_row1\" class=\"row_heading level0 row1\" >mean</th>\n",
       "      <td id=\"T_8ada8_row1_col0\" class=\"data row1 col0\" >0.000%</td>\n",
       "      <td id=\"T_8ada8_row1_col1\" class=\"data row1 col1\" >0.000%</td>\n",
       "      <td id=\"T_8ada8_row1_col2\" class=\"data row1 col2\" >0.000%</td>\n",
       "      <td id=\"T_8ada8_row1_col3\" class=\"data row1 col3\" >0.000%</td>\n",
       "      <td id=\"T_8ada8_row1_col4\" class=\"data row1 col4\" >-0.027%</td>\n",
       "      <td id=\"T_8ada8_row1_col5\" class=\"data row1 col5\" >0.000%</td>\n",
       "      <td id=\"T_8ada8_row1_col6\" class=\"data row1 col6\" >0.000%</td>\n",
       "      <td id=\"T_8ada8_row1_col7\" class=\"data row1 col7\" >-0.000%</td>\n",
       "      <td id=\"T_8ada8_row1_col8\" class=\"data row1 col8\" >0.000%</td>\n",
       "    </tr>\n",
       "    <tr>\n",
       "      <th id=\"T_8ada8_level0_row2\" class=\"row_heading level0 row2\" >stddev</th>\n",
       "      <td id=\"T_8ada8_row2_col0\" class=\"data row2 col0\" >0.000%</td>\n",
       "      <td id=\"T_8ada8_row2_col1\" class=\"data row2 col1\" >0.000%</td>\n",
       "      <td id=\"T_8ada8_row2_col2\" class=\"data row2 col2\" >0.000%</td>\n",
       "      <td id=\"T_8ada8_row2_col3\" class=\"data row2 col3\" >0.000%</td>\n",
       "      <td id=\"T_8ada8_row2_col4\" class=\"data row2 col4\" >-0.198%</td>\n",
       "      <td id=\"T_8ada8_row2_col5\" class=\"data row2 col5\" >0.000%</td>\n",
       "      <td id=\"T_8ada8_row2_col6\" class=\"data row2 col6\" >0.000%</td>\n",
       "      <td id=\"T_8ada8_row2_col7\" class=\"data row2 col7\" >0.000%</td>\n",
       "      <td id=\"T_8ada8_row2_col8\" class=\"data row2 col8\" >0.000%</td>\n",
       "    </tr>\n",
       "    <tr>\n",
       "      <th id=\"T_8ada8_level0_row3\" class=\"row_heading level0 row3\" >min</th>\n",
       "      <td id=\"T_8ada8_row3_col0\" class=\"data row3 col0\" >-0.000%</td>\n",
       "      <td id=\"T_8ada8_row3_col1\" class=\"data row3 col1\" >0.000%</td>\n",
       "      <td id=\"T_8ada8_row3_col2\" class=\"data row3 col2\" >0.000%</td>\n",
       "      <td id=\"T_8ada8_row3_col3\" class=\"data row3 col3\" >0.000%</td>\n",
       "      <td id=\"T_8ada8_row3_col4\" class=\"data row3 col4\" >0.000%</td>\n",
       "      <td id=\"T_8ada8_row3_col5\" class=\"data row3 col5\" >0.000%</td>\n",
       "      <td id=\"T_8ada8_row3_col6\" class=\"data row3 col6\" >0.000%</td>\n",
       "      <td id=\"T_8ada8_row3_col7\" class=\"data row3 col7\" >0.000%</td>\n",
       "      <td id=\"T_8ada8_row3_col8\" class=\"data row3 col8\" >0.000%</td>\n",
       "    </tr>\n",
       "    <tr>\n",
       "      <th id=\"T_8ada8_level0_row4\" class=\"row_heading level0 row4\" >max</th>\n",
       "      <td id=\"T_8ada8_row4_col0\" class=\"data row4 col0\" >-0.000%</td>\n",
       "      <td id=\"T_8ada8_row4_col1\" class=\"data row4 col1\" >0.000%</td>\n",
       "      <td id=\"T_8ada8_row4_col2\" class=\"data row4 col2\" >0.000%</td>\n",
       "      <td id=\"T_8ada8_row4_col3\" class=\"data row4 col3\" >0.000%</td>\n",
       "      <td id=\"T_8ada8_row4_col4\" class=\"data row4 col4\" >0.000%</td>\n",
       "      <td id=\"T_8ada8_row4_col5\" class=\"data row4 col5\" >0.000%</td>\n",
       "      <td id=\"T_8ada8_row4_col6\" class=\"data row4 col6\" >0.000%</td>\n",
       "      <td id=\"T_8ada8_row4_col7\" class=\"data row4 col7\" >0.000%</td>\n",
       "      <td id=\"T_8ada8_row4_col8\" class=\"data row4 col8\" >0.000%</td>\n",
       "    </tr>\n",
       "  </tbody>\n",
       "</table>\n"
      ],
      "text/plain": [
       "<pandas.io.formats.style.Styler at 0x20e2038f580>"
      ]
     },
     "execution_count": 27,
     "metadata": {},
     "output_type": "execute_result"
    }
   ],
   "source": [
    "df_chng = (df_stats_after - df_stats_before) / df_stats_before\n",
    "\n",
    "df_chng.style.format('{:.3%}', na_rep='-').applymap(lambda value: 'color:red;' if abs(value) > 0.0001 else None)"
   ]
  },
  {
   "cell_type": "code",
   "execution_count": 28,
   "id": "f95977e3",
   "metadata": {},
   "outputs": [],
   "source": [
    "data = data.withColumn('rooms_div_population', F.col('total_rooms') / F.col('population'))"
   ]
  },
  {
   "cell_type": "code",
   "execution_count": 29,
   "id": "0347abce",
   "metadata": {},
   "outputs": [],
   "source": [
    "target = 'median_house_value'"
   ]
  },
  {
   "cell_type": "code",
   "execution_count": 30,
   "id": "17d3bb7e",
   "metadata": {},
   "outputs": [],
   "source": [
    "num_feature_list = []\n",
    "cat_feature_list = []\n",
    "\n",
    "for feature in data.dtypes:\n",
    "    if feature[1] in ['double','float','int']:\n",
    "        num_feature_list.append(feature[0])\n",
    "    elif feature[1] in ['string']:\n",
    "        cat_feature_list.append(feature[0])\n",
    "\n",
    "num_feature_list = list(set(num_feature_list) - set([target]))     # exclusion of the target feature from the lists\n",
    "cat_feature_list = list(set(cat_feature_list) - set([target]))     # universal option – almost ready function"
   ]
  },
  {
   "cell_type": "code",
   "execution_count": 31,
   "id": "75c7cfee",
   "metadata": {},
   "outputs": [
    {
     "data": {
      "text/plain": [
       "['total_rooms',\n",
       " 'latitude',\n",
       " 'housing_median_age',\n",
       " 'population',\n",
       " 'median_income',\n",
       " 'total_bedrooms',\n",
       " 'longitude',\n",
       " 'rooms_div_population',\n",
       " 'households']"
      ]
     },
     "execution_count": 31,
     "metadata": {},
     "output_type": "execute_result"
    }
   ],
   "source": [
    "num_feature_list"
   ]
  },
  {
   "cell_type": "code",
   "execution_count": 32,
   "id": "7985f56c",
   "metadata": {},
   "outputs": [
    {
     "data": {
      "text/plain": [
       "['ocean_proximity']"
      ]
     },
     "execution_count": 32,
     "metadata": {},
     "output_type": "execute_result"
    }
   ],
   "source": [
    "cat_feature_list"
   ]
  },
  {
   "cell_type": "code",
   "execution_count": 33,
   "id": "18241a67",
   "metadata": {},
   "outputs": [
    {
     "name": "stdout",
     "output_type": "stream",
     "text": [
      "train samples:  16484\n",
      "test samples:    4156\n"
     ]
    }
   ],
   "source": [
    "data_train, data_test = data.randomSplit([1-TEST_FRAC, TEST_FRAC], seed=RS)\n",
    "\n",
    "print(f'train samples: {data_train.count():6d}')\n",
    "print(f'test samples:  {data_test.count():6d}')"
   ]
  },
  {
   "cell_type": "code",
   "execution_count": 34,
   "id": "fef3918c",
   "metadata": {},
   "outputs": [],
   "source": [
    "def crteate_initial_num_vector():\n",
    "    \n",
    "    return VectorAssembler(\n",
    "                           inputCols=num_feature_list,\n",
    "                           outputCol='num_features'\n",
    "                          )"
   ]
  },
  {
   "cell_type": "code",
   "execution_count": 35,
   "id": "5bb9ebe3",
   "metadata": {},
   "outputs": [],
   "source": [
    "def create_scaler():\n",
    "    \n",
    "    return RobustScaler(\n",
    "                        inputCol='num_features',\n",
    "                        outputCol='num_features_scaled'\n",
    "                       )"
   ]
  },
  {
   "cell_type": "code",
   "execution_count": 36,
   "id": "0fdca2df",
   "metadata": {},
   "outputs": [],
   "source": [
    "def create_polynomial(degree=2):\n",
    "    \n",
    "    return PolynomialExpansion(\n",
    "                               degree=degree,\n",
    "                               inputCol='num_features_scaled',\n",
    "                               outputCol='num_features_poly'\n",
    "                              )"
   ]
  },
  {
   "cell_type": "code",
   "execution_count": 37,
   "id": "bce81aab",
   "metadata": {},
   "outputs": [],
   "source": [
    "def create_string_indexer():\n",
    "    \n",
    "    return StringIndexer(\n",
    "                         inputCols=cat_feature_list,\n",
    "                         outputCols=[f'{feature}_indexer' for feature in cat_feature_list]\n",
    "                        )"
   ]
  },
  {
   "cell_type": "code",
   "execution_count": 38,
   "id": "4b115768",
   "metadata": {},
   "outputs": [],
   "source": [
    "def create_ohe():\n",
    "    \n",
    "    return OneHotEncoder(\n",
    "                         inputCols=[f'{feature}_indexer' for feature in cat_feature_list],\n",
    "                         outputCols=[f'{feature}_ohe' for feature in cat_feature_list]\n",
    "                        )"
   ]
  },
  {
   "cell_type": "code",
   "execution_count": 39,
   "id": "368b91fa",
   "metadata": {},
   "outputs": [],
   "source": [
    "def create_KMeans_prepare(feature_list, outputCol_name):\n",
    "    \n",
    "    return VectorAssembler(\n",
    "                           inputCols=feature_list,\n",
    "                           outputCol=outputCol_name\n",
    "                          )"
   ]
  },
  {
   "cell_type": "code",
   "execution_count": 40,
   "id": "a4fc168a",
   "metadata": {},
   "outputs": [],
   "source": [
    "def create_KMeans_clusters(featuresCol_name, predictionCol_name, k_clusters=5):\n",
    "    \n",
    "    return KMeans(\n",
    "                  k=k_clusters,\n",
    "                  featuresCol=featuresCol_name,\n",
    "                  predictionCol=predictionCol_name,\n",
    "                  seed=RS,\n",
    "                 )"
   ]
  },
  {
   "cell_type": "code",
   "execution_count": 41,
   "id": "5dae3853",
   "metadata": {},
   "outputs": [],
   "source": [
    "def create_cat_features_encoded_vector():\n",
    "    \n",
    "    return VectorAssembler(\n",
    "                           inputCols=[f'{feature}_ohe' for feature in cat_feature_list] + ['cluster_group'],\n",
    "                           outputCol='cat_features_encoded'\n",
    "                          )"
   ]
  },
  {
   "cell_type": "code",
   "execution_count": 42,
   "id": "76fca195",
   "metadata": {},
   "outputs": [],
   "source": [
    "def create_final_feature_vector(switch='all'):\n",
    "    \n",
    "    if switch == 'all':\n",
    "        return VectorAssembler(inputCols=['cat_features_encoded','num_features_poly'],\n",
    "                               outputCol='features')\n",
    "    \n",
    "    elif switch == 'num_only':\n",
    "        return VectorAssembler(inputCols=['num_features_poly'],\n",
    "                               outputCol='features')"
   ]
  },
  {
   "cell_type": "code",
   "execution_count": 43,
   "id": "53c3e67d",
   "metadata": {},
   "outputs": [],
   "source": [
    "def create_estimator(estimator_name, features_col_name):\n",
    "    \n",
    "    if estimator_name == 'LinearRegression':\n",
    "        \n",
    "        return LinearRegression(\n",
    "                                labelCol=target,\n",
    "                                featuresCol=features_col_name,\n",
    "                                standardization=False,\n",
    "                                maxIter=MAX_ITER,\n",
    "                               )"
   ]
  },
  {
   "cell_type": "code",
   "execution_count": 44,
   "id": "d813dd7a",
   "metadata": {},
   "outputs": [],
   "source": [
    "def create_params_grid(estimator):\n",
    "    \n",
    "    return (RandomGridBuilder(N_TRIALS)\n",
    "            .addDistr(estimator.regParam, lambda: np.random.rand())\n",
    "            .addDistr(estimator.elasticNetParam, lambda: np.random.rand())\n",
    "            .build()\n",
    "           )"
   ]
  },
  {
   "cell_type": "code",
   "execution_count": 45,
   "id": "b54a0cd2",
   "metadata": {},
   "outputs": [],
   "source": [
    "def create_crossvalidator(estimator, params_grid):\n",
    "\n",
    "    return CrossValidator(\n",
    "                          estimator=estimator,\n",
    "                          estimatorParamMaps=params_grid,\n",
    "                          evaluator=RegressionEvaluator(labelCol=target, predictionCol='prediction',  metricName='r2'),\n",
    "                          numFolds=N_CV,\n",
    "                          parallelism=16,\n",
    "                          seed=RS,\n",
    "                         )"
   ]
  },
  {
   "cell_type": "code",
   "execution_count": 46,
   "id": "7a34893c",
   "metadata": {},
   "outputs": [],
   "source": [
    "# modelling pipeline\n",
    "def create_pipeline(estimator_name, features_col_name, switch='all'):  \n",
    "    \n",
    "    initial_num_vector = crteate_initial_num_vector()\n",
    "    scaler = create_scaler()\n",
    "    polynomial = create_polynomial(degree=DEGREE_POLYNOMIAL)\n",
    "    \n",
    "    string_indexer = create_string_indexer()\n",
    "    ohe = create_ohe()\n",
    "    kmeans_prepare = create_KMeans_prepare(['latitude','longitude', 'median_income'], 'KMeans_group')\n",
    "    kmeans_clusters = create_KMeans_clusters('KMeans_group', 'cluster_group', k_clusters=6)\n",
    "    cat_features_encoded_vector = create_cat_features_encoded_vector()\n",
    "    \n",
    "    final_feature_vector = create_final_feature_vector(switch=switch)\n",
    "\n",
    "    estimator = create_estimator(estimator_name, features_col_name)\n",
    "    params_grid = create_params_grid(estimator)\n",
    "    crossvalidator = create_crossvalidator(estimator, params_grid)\n",
    "    \n",
    "    return Pipeline(stages=[\n",
    "                            initial_num_vector,            \n",
    "                            scaler,                        \n",
    "                            polynomial,                    \n",
    "                            string_indexer,                \n",
    "                            ohe,                            \n",
    "                            kmeans_prepare,                \n",
    "                            kmeans_clusters,              \n",
    "                            cat_features_encoded_vector,   \n",
    "                            final_feature_vector,          \n",
    "                            crossvalidator,                \n",
    "                           ]\n",
    "                   )"
   ]
  },
  {
   "cell_type": "code",
   "execution_count": 47,
   "id": "c0c6c66a",
   "metadata": {},
   "outputs": [
    {
     "name": "stdout",
     "output_type": "stream",
     "text": [
      "CPU times: total: 1.98 s\n",
      "Wall time: 16min 49s\n"
     ]
    }
   ],
   "source": [
    "%%time\n",
    "\n",
    "# for all features\n",
    "pipeline_num_cat = create_pipeline('LinearRegression', 'features', switch='all').fit(data_train)"
   ]
  },
  {
   "cell_type": "code",
   "execution_count": 48,
   "id": "928a083b",
   "metadata": {},
   "outputs": [
    {
     "name": "stdout",
     "output_type": "stream",
     "text": [
      "CPU times: total: 2.34 s\n",
      "Wall time: 17min 15s\n"
     ]
    }
   ],
   "source": [
    "%%time\n",
    "\n",
    "# only for numeric initial features\n",
    "pipeline_num_only = create_pipeline('LinearRegression', 'features', switch='num_only').fit(data_train)"
   ]
  },
  {
   "cell_type": "code",
   "execution_count": 49,
   "id": "f9da2f49",
   "metadata": {},
   "outputs": [],
   "source": [
    "model_num_cat = pipeline_num_cat.stages[-1].bestModel\n",
    "model_num_only = pipeline_num_only.stages[-1].bestModel"
   ]
  },
  {
   "cell_type": "code",
   "execution_count": 50,
   "id": "2b8a1505",
   "metadata": {},
   "outputs": [],
   "source": [
    "def prediction_results(pipeline):\n",
    "    print(f'{CR}Predictions for LinearRegression with {f.BOLD}{(var_name(pipeline))}{f.END}{CR}')\n",
    "    pipeline.transform(data_test).select('median_house_value', 'prediction').sample(0.01).show(5)    "
   ]
  },
  {
   "cell_type": "code",
   "execution_count": 51,
   "id": "b4d8457b",
   "metadata": {
    "scrolled": true
   },
   "outputs": [
    {
     "name": "stdout",
     "output_type": "stream",
     "text": [
      "\n",
      "Predictions for LinearRegression with \u001b[1mpipeline_num_cat\u001b[0m\n",
      "\n",
      "+------------------+------------------+\n",
      "|median_house_value|        prediction|\n",
      "+------------------+------------------+\n",
      "|          187800.0|218794.16224384448|\n",
      "|          410500.0| 323311.5854588663|\n",
      "|          325800.0| 325088.2302925545|\n",
      "|          341700.0|303315.40402677236|\n",
      "|          304000.0|  273694.135845541|\n",
      "+------------------+------------------+\n",
      "only showing top 5 rows\n",
      "\n",
      "\n",
      "Predictions for LinearRegression with \u001b[1mpipeline_num_only\u001b[0m\n",
      "\n",
      "+------------------+------------------+\n",
      "|median_house_value|        prediction|\n",
      "+------------------+------------------+\n",
      "|          264200.0| 323915.3100826172|\n",
      "|          321600.0|  337954.140164135|\n",
      "|          112200.0| 128404.3318612026|\n",
      "|          151000.0|182657.01790653635|\n",
      "|          208100.0| 225823.3863415392|\n",
      "+------------------+------------------+\n",
      "only showing top 5 rows\n",
      "\n"
     ]
    }
   ],
   "source": [
    "prediction_results(pipeline_num_cat)\n",
    "prediction_results(pipeline_num_only)"
   ]
  },
  {
   "cell_type": "code",
   "execution_count": 52,
   "id": "af9f86df",
   "metadata": {},
   "outputs": [
    {
     "name": "stdout",
     "output_type": "stream",
     "text": [
      "\n",
      "\u001b[1mpipeline_num_cat\u001b[0m metrics:\n",
      "R2   = 0.739\n",
      "RMSE = 59711\n",
      "MAE  = 42842\n",
      "\n",
      "\u001b[1mpipeline_num_only\u001b[0m metrics:\n",
      "R2   = 0.735\n",
      "RMSE = 60210\n",
      "MAE  = 43338\n"
     ]
    }
   ],
   "source": [
    "def model_metric(pipeline, metric_dict={'r2':3}):\n",
    "    predicted = pipeline.transform(data_test)\n",
    "    \n",
    "    print(f'{CR}{f.BOLD}{var_name(pipeline)}{f.END} metrics:')\n",
    "    \n",
    "    for metric_name, metric_precission in metric_dict.items():\n",
    "        metric = RegressionEvaluator(labelCol=target, predictionCol='prediction', metricName=metric_name).evaluate(predicted)\n",
    "        print(f'{metric_name.upper():4} = {metric :{metric_precission}}')\n",
    "\n",
    "model_metric(pipeline_num_cat, {'r2':'0.3f','rmse':'0.0f','mae':'0.0f'})\n",
    "model_metric(pipeline_num_only, {'r2':'0.3f','rmse':'0.0f','mae':'0.0f'})"
   ]
  }
 ],
 "metadata": {
  "kernelspec": {
   "display_name": "Python 3 (ipykernel)",
   "language": "python",
   "name": "python3"
  },
  "language_info": {
   "codemirror_mode": {
    "name": "ipython",
    "version": 3
   },
   "file_extension": ".py",
   "mimetype": "text/x-python",
   "name": "python",
   "nbconvert_exporter": "python",
   "pygments_lexer": "ipython3",
   "version": "3.9.12"
  }
 },
 "nbformat": 4,
 "nbformat_minor": 5
}
